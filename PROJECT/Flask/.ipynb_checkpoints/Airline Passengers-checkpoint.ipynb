{
 "cells": [
  {
   "cell_type": "code",
   "execution_count": 2,
   "id": "e23666d7",
   "metadata": {},
   "outputs": [],
   "source": [
    "import numpy as np\n",
    "import pandas as pd\n",
    "import matplotlib.pyplot as plt\n",
    "import seaborn as sns\n",
    "from sklearn.model_selection import train_test_split\n",
    "from sklearn.ensemble import RandomForestClassifier, GradientBoostingClassifier\n",
    "from sklearn.tree import DecisionTreeClassifier\n",
    "from sklearn.neighbors import KNeighborsClassifier\n",
    "from sklearn.metrics import f1_score\n",
    "from sklearn.metrics import classification_report, confusion_matrix\n",
    "import warnings\n",
    "import pickle\n",
    "from scipy import stats\n",
    "warnings.filterwarnings('ignore')\n",
    "plt.style.use(\"fivethirtyeight\")\n"
   ]
  },
  {
   "cell_type": "code",
   "execution_count": 3,
   "id": "42c2bc4d",
   "metadata": {},
   "outputs": [
    {
     "data": {
      "text/html": [
       "<div>\n",
       "<style scoped>\n",
       "    .dataframe tbody tr th:only-of-type {\n",
       "        vertical-align: middle;\n",
       "    }\n",
       "\n",
       "    .dataframe tbody tr th {\n",
       "        vertical-align: top;\n",
       "    }\n",
       "\n",
       "    .dataframe thead th {\n",
       "        text-align: right;\n",
       "    }\n",
       "</style>\n",
       "<table border=\"1\" class=\"dataframe\">\n",
       "  <thead>\n",
       "    <tr style=\"text-align: right;\">\n",
       "      <th></th>\n",
       "      <th>Unnamed: 0</th>\n",
       "      <th>id</th>\n",
       "      <th>Gender</th>\n",
       "      <th>Customer Type</th>\n",
       "      <th>Age</th>\n",
       "      <th>Type of Travel</th>\n",
       "      <th>Class</th>\n",
       "      <th>Flight Distance</th>\n",
       "      <th>Inflight wifi service</th>\n",
       "      <th>Departure/Arrival time convenient</th>\n",
       "      <th>...</th>\n",
       "      <th>Inflight entertainment</th>\n",
       "      <th>On-board service</th>\n",
       "      <th>Leg room service</th>\n",
       "      <th>Baggage handling</th>\n",
       "      <th>Checkin service</th>\n",
       "      <th>Inflight service</th>\n",
       "      <th>Cleanliness</th>\n",
       "      <th>Departure Delay in Minutes</th>\n",
       "      <th>Arrival Delay in Minutes</th>\n",
       "      <th>satisfaction</th>\n",
       "    </tr>\n",
       "  </thead>\n",
       "  <tbody>\n",
       "    <tr>\n",
       "      <th>0</th>\n",
       "      <td>0</td>\n",
       "      <td>19556</td>\n",
       "      <td>Female</td>\n",
       "      <td>Loyal Customer</td>\n",
       "      <td>52</td>\n",
       "      <td>Business travel</td>\n",
       "      <td>Eco</td>\n",
       "      <td>160</td>\n",
       "      <td>5</td>\n",
       "      <td>4</td>\n",
       "      <td>...</td>\n",
       "      <td>5</td>\n",
       "      <td>5</td>\n",
       "      <td>5</td>\n",
       "      <td>5</td>\n",
       "      <td>2</td>\n",
       "      <td>5</td>\n",
       "      <td>5</td>\n",
       "      <td>50</td>\n",
       "      <td>44.0</td>\n",
       "      <td>satisfied</td>\n",
       "    </tr>\n",
       "    <tr>\n",
       "      <th>1</th>\n",
       "      <td>1</td>\n",
       "      <td>90035</td>\n",
       "      <td>Female</td>\n",
       "      <td>Loyal Customer</td>\n",
       "      <td>36</td>\n",
       "      <td>Business travel</td>\n",
       "      <td>Business</td>\n",
       "      <td>2863</td>\n",
       "      <td>1</td>\n",
       "      <td>1</td>\n",
       "      <td>...</td>\n",
       "      <td>4</td>\n",
       "      <td>4</td>\n",
       "      <td>4</td>\n",
       "      <td>4</td>\n",
       "      <td>3</td>\n",
       "      <td>4</td>\n",
       "      <td>5</td>\n",
       "      <td>0</td>\n",
       "      <td>0.0</td>\n",
       "      <td>satisfied</td>\n",
       "    </tr>\n",
       "    <tr>\n",
       "      <th>2</th>\n",
       "      <td>2</td>\n",
       "      <td>12360</td>\n",
       "      <td>Male</td>\n",
       "      <td>disloyal Customer</td>\n",
       "      <td>20</td>\n",
       "      <td>Business travel</td>\n",
       "      <td>Eco</td>\n",
       "      <td>192</td>\n",
       "      <td>2</td>\n",
       "      <td>0</td>\n",
       "      <td>...</td>\n",
       "      <td>2</td>\n",
       "      <td>4</td>\n",
       "      <td>1</td>\n",
       "      <td>3</td>\n",
       "      <td>2</td>\n",
       "      <td>2</td>\n",
       "      <td>2</td>\n",
       "      <td>0</td>\n",
       "      <td>0.0</td>\n",
       "      <td>neutral or dissatisfied</td>\n",
       "    </tr>\n",
       "    <tr>\n",
       "      <th>3</th>\n",
       "      <td>3</td>\n",
       "      <td>77959</td>\n",
       "      <td>Male</td>\n",
       "      <td>Loyal Customer</td>\n",
       "      <td>44</td>\n",
       "      <td>Business travel</td>\n",
       "      <td>Business</td>\n",
       "      <td>3377</td>\n",
       "      <td>0</td>\n",
       "      <td>0</td>\n",
       "      <td>...</td>\n",
       "      <td>1</td>\n",
       "      <td>1</td>\n",
       "      <td>1</td>\n",
       "      <td>1</td>\n",
       "      <td>3</td>\n",
       "      <td>1</td>\n",
       "      <td>4</td>\n",
       "      <td>0</td>\n",
       "      <td>6.0</td>\n",
       "      <td>satisfied</td>\n",
       "    </tr>\n",
       "    <tr>\n",
       "      <th>4</th>\n",
       "      <td>4</td>\n",
       "      <td>36875</td>\n",
       "      <td>Female</td>\n",
       "      <td>Loyal Customer</td>\n",
       "      <td>49</td>\n",
       "      <td>Business travel</td>\n",
       "      <td>Eco</td>\n",
       "      <td>1182</td>\n",
       "      <td>2</td>\n",
       "      <td>3</td>\n",
       "      <td>...</td>\n",
       "      <td>2</td>\n",
       "      <td>2</td>\n",
       "      <td>2</td>\n",
       "      <td>2</td>\n",
       "      <td>4</td>\n",
       "      <td>2</td>\n",
       "      <td>4</td>\n",
       "      <td>0</td>\n",
       "      <td>20.0</td>\n",
       "      <td>satisfied</td>\n",
       "    </tr>\n",
       "  </tbody>\n",
       "</table>\n",
       "<p>5 rows × 25 columns</p>\n",
       "</div>"
      ],
      "text/plain": [
       "   Unnamed: 0     id  Gender      Customer Type  Age   Type of Travel   \n",
       "0           0  19556  Female     Loyal Customer   52  Business travel  \\\n",
       "1           1  90035  Female     Loyal Customer   36  Business travel   \n",
       "2           2  12360    Male  disloyal Customer   20  Business travel   \n",
       "3           3  77959    Male     Loyal Customer   44  Business travel   \n",
       "4           4  36875  Female     Loyal Customer   49  Business travel   \n",
       "\n",
       "      Class  Flight Distance  Inflight wifi service   \n",
       "0       Eco              160                      5  \\\n",
       "1  Business             2863                      1   \n",
       "2       Eco              192                      2   \n",
       "3  Business             3377                      0   \n",
       "4       Eco             1182                      2   \n",
       "\n",
       "   Departure/Arrival time convenient  ...  Inflight entertainment   \n",
       "0                                  4  ...                       5  \\\n",
       "1                                  1  ...                       4   \n",
       "2                                  0  ...                       2   \n",
       "3                                  0  ...                       1   \n",
       "4                                  3  ...                       2   \n",
       "\n",
       "   On-board service  Leg room service  Baggage handling  Checkin service   \n",
       "0                 5                 5                 5                2  \\\n",
       "1                 4                 4                 4                3   \n",
       "2                 4                 1                 3                2   \n",
       "3                 1                 1                 1                3   \n",
       "4                 2                 2                 2                4   \n",
       "\n",
       "   Inflight service  Cleanliness  Departure Delay in Minutes   \n",
       "0                 5            5                          50  \\\n",
       "1                 4            5                           0   \n",
       "2                 2            2                           0   \n",
       "3                 1            4                           0   \n",
       "4                 2            4                           0   \n",
       "\n",
       "   Arrival Delay in Minutes             satisfaction  \n",
       "0                      44.0                satisfied  \n",
       "1                       0.0                satisfied  \n",
       "2                       0.0  neutral or dissatisfied  \n",
       "3                       6.0                satisfied  \n",
       "4                      20.0                satisfied  \n",
       "\n",
       "[5 rows x 25 columns]"
      ]
     },
     "execution_count": 3,
     "metadata": {},
     "output_type": "execute_result"
    }
   ],
   "source": [
    "df = pd.read_csv(\"../Training/test.csv\")\n",
    "df.head()"
   ]
  },
  {
   "cell_type": "code",
   "execution_count": 4,
   "id": "36024e35",
   "metadata": {},
   "outputs": [
    {
     "name": "stdout",
     "output_type": "stream",
     "text": [
      "<class 'pandas.core.frame.DataFrame'>\n",
      "RangeIndex: 25976 entries, 0 to 25975\n",
      "Data columns (total 25 columns):\n",
      " #   Column                             Non-Null Count  Dtype  \n",
      "---  ------                             --------------  -----  \n",
      " 0   Unnamed: 0                         25976 non-null  int64  \n",
      " 1   id                                 25976 non-null  int64  \n",
      " 2   Gender                             25976 non-null  object \n",
      " 3   Customer Type                      25976 non-null  object \n",
      " 4   Age                                25976 non-null  int64  \n",
      " 5   Type of Travel                     25976 non-null  object \n",
      " 6   Class                              25976 non-null  object \n",
      " 7   Flight Distance                    25976 non-null  int64  \n",
      " 8   Inflight wifi service              25976 non-null  int64  \n",
      " 9   Departure/Arrival time convenient  25976 non-null  int64  \n",
      " 10  Ease of Online booking             25976 non-null  int64  \n",
      " 11  Gate location                      25976 non-null  int64  \n",
      " 12  Food and drink                     25976 non-null  int64  \n",
      " 13  Online boarding                    25976 non-null  int64  \n",
      " 14  Seat comfort                       25976 non-null  int64  \n",
      " 15  Inflight entertainment             25976 non-null  int64  \n",
      " 16  On-board service                   25976 non-null  int64  \n",
      " 17  Leg room service                   25976 non-null  int64  \n",
      " 18  Baggage handling                   25976 non-null  int64  \n",
      " 19  Checkin service                    25976 non-null  int64  \n",
      " 20  Inflight service                   25976 non-null  int64  \n",
      " 21  Cleanliness                        25976 non-null  int64  \n",
      " 22  Departure Delay in Minutes         25976 non-null  int64  \n",
      " 23  Arrival Delay in Minutes           25893 non-null  float64\n",
      " 24  satisfaction                       25976 non-null  object \n",
      "dtypes: float64(1), int64(19), object(5)\n",
      "memory usage: 5.0+ MB\n"
     ]
    }
   ],
   "source": [
    "df.info()"
   ]
  },
  {
   "cell_type": "code",
   "execution_count": 5,
   "id": "73fada60",
   "metadata": {},
   "outputs": [
    {
     "data": {
      "text/plain": [
       "Unnamed: 0                            0\n",
       "id                                    0\n",
       "Gender                                0\n",
       "Customer Type                         0\n",
       "Age                                   0\n",
       "Type of Travel                        0\n",
       "Class                                 0\n",
       "Flight Distance                       0\n",
       "Inflight wifi service                 0\n",
       "Departure/Arrival time convenient     0\n",
       "Ease of Online booking                0\n",
       "Gate location                         0\n",
       "Food and drink                        0\n",
       "Online boarding                       0\n",
       "Seat comfort                          0\n",
       "Inflight entertainment                0\n",
       "On-board service                      0\n",
       "Leg room service                      0\n",
       "Baggage handling                      0\n",
       "Checkin service                       0\n",
       "Inflight service                      0\n",
       "Cleanliness                           0\n",
       "Departure Delay in Minutes            0\n",
       "Arrival Delay in Minutes             83\n",
       "satisfaction                          0\n",
       "dtype: int64"
      ]
     },
     "execution_count": 5,
     "metadata": {},
     "output_type": "execute_result"
    }
   ],
   "source": [
    "df.isnull().sum()"
   ]
  },
  {
   "cell_type": "code",
   "execution_count": 6,
   "id": "c26e2689",
   "metadata": {},
   "outputs": [
    {
     "data": {
      "text/plain": [
       "array([19556, 90035, 12360, ..., 37675, 90086, 34799])"
      ]
     },
     "execution_count": 6,
     "metadata": {},
     "output_type": "execute_result"
    }
   ],
   "source": [
    "df[\"id\"].unique()"
   ]
  },
  {
   "cell_type": "code",
   "execution_count": 7,
   "id": "f546e9a8",
   "metadata": {},
   "outputs": [
    {
     "data": {
      "text/plain": [
       "array(['Female', 'Male'], dtype=object)"
      ]
     },
     "execution_count": 7,
     "metadata": {},
     "output_type": "execute_result"
    }
   ],
   "source": [
    "df[\"Gender\"].unique()"
   ]
  },
  {
   "cell_type": "code",
   "execution_count": 8,
   "id": "b288e0fa",
   "metadata": {},
   "outputs": [
    {
     "data": {
      "text/plain": [
       "array(['Loyal Customer', 'disloyal Customer'], dtype=object)"
      ]
     },
     "execution_count": 8,
     "metadata": {},
     "output_type": "execute_result"
    }
   ],
   "source": [
    "df[\"Customer Type\"].unique()"
   ]
  },
  {
   "cell_type": "code",
   "execution_count": 9,
   "id": "e357362e",
   "metadata": {},
   "outputs": [
    {
     "data": {
      "text/plain": [
       "array([52, 36, 20, 44, 49, 16, 77, 43, 47, 46, 33, 60, 50, 31, 55, 25, 30,\n",
       "       62, 24, 22, 51, 56, 41, 53, 12, 39, 32, 40, 42, 28, 59, 58, 27, 67,\n",
       "       70, 66, 19, 69, 35, 54, 26, 61, 21, 37, 45, 38,  7, 34, 17, 15, 48,\n",
       "       13, 11, 29,  8, 18, 23, 65, 57, 80, 64,  9, 14, 68, 10, 79, 63, 73,\n",
       "       74, 71, 72, 76, 78, 75, 85])"
      ]
     },
     "execution_count": 9,
     "metadata": {},
     "output_type": "execute_result"
    }
   ],
   "source": [
    "df[\"Age\"].unique()"
   ]
  },
  {
   "cell_type": "code",
   "execution_count": 10,
   "id": "9f90f6a7",
   "metadata": {},
   "outputs": [
    {
     "data": {
      "text/plain": [
       "array(['Business travel', 'Personal Travel'], dtype=object)"
      ]
     },
     "execution_count": 10,
     "metadata": {},
     "output_type": "execute_result"
    }
   ],
   "source": [
    "df[\"Type of Travel\"].unique()"
   ]
  },
  {
   "cell_type": "code",
   "execution_count": 11,
   "id": "f26c6cd6",
   "metadata": {},
   "outputs": [
    {
     "data": {
      "text/plain": [
       "array(['Eco', 'Business', 'Eco Plus'], dtype=object)"
      ]
     },
     "execution_count": 11,
     "metadata": {},
     "output_type": "execute_result"
    }
   ],
   "source": [
    "df[\"Class\"].unique()"
   ]
  },
  {
   "cell_type": "code",
   "execution_count": 12,
   "id": "05bbcb21",
   "metadata": {},
   "outputs": [
    {
     "data": {
      "text/plain": [
       "array([ 160, 2863,  192, ..., 3714, 3097, 3518])"
      ]
     },
     "execution_count": 12,
     "metadata": {},
     "output_type": "execute_result"
    }
   ],
   "source": [
    "df[\"Flight Distance\"].unique()"
   ]
  },
  {
   "cell_type": "code",
   "execution_count": 13,
   "id": "72714152",
   "metadata": {},
   "outputs": [
    {
     "data": {
      "text/plain": [
       "array([5, 1, 2, 0, 3, 4])"
      ]
     },
     "execution_count": 13,
     "metadata": {},
     "output_type": "execute_result"
    }
   ],
   "source": [
    "df[\"Inflight wifi service\"].unique()"
   ]
  },
  {
   "cell_type": "code",
   "execution_count": 14,
   "id": "4287c453",
   "metadata": {},
   "outputs": [
    {
     "data": {
      "text/plain": [
       "array([4, 1, 0, 3, 5, 2])"
      ]
     },
     "execution_count": 14,
     "metadata": {},
     "output_type": "execute_result"
    }
   ],
   "source": [
    "df[\"Departure/Arrival time convenient\"].unique()"
   ]
  },
  {
   "cell_type": "code",
   "execution_count": 15,
   "id": "2c1c625a",
   "metadata": {},
   "outputs": [
    {
     "data": {
      "text/plain": [
       "array([3, 2, 0, 4, 5, 1])"
      ]
     },
     "execution_count": 15,
     "metadata": {},
     "output_type": "execute_result"
    }
   ],
   "source": [
    "df[\"Ease of Online booking\"].unique()"
   ]
  },
  {
   "cell_type": "code",
   "execution_count": 16,
   "id": "1ee807a5",
   "metadata": {},
   "outputs": [
    {
     "data": {
      "text/plain": [
       "array([4, 1, 2, 3, 5])"
      ]
     },
     "execution_count": 16,
     "metadata": {},
     "output_type": "execute_result"
    }
   ],
   "source": [
    "df[\"Gate location\"].unique()"
   ]
  },
  {
   "cell_type": "code",
   "execution_count": 17,
   "id": "1e0c0ed5",
   "metadata": {},
   "outputs": [
    {
     "data": {
      "text/plain": [
       "array([3, 5, 2, 4, 1, 0])"
      ]
     },
     "execution_count": 17,
     "metadata": {},
     "output_type": "execute_result"
    }
   ],
   "source": [
    "df[\"Food and drink\"].unique()"
   ]
  },
  {
   "cell_type": "code",
   "execution_count": 18,
   "id": "f0b81654",
   "metadata": {},
   "outputs": [
    {
     "data": {
      "text/plain": [
       "array([4, 2, 1, 5, 3, 0])"
      ]
     },
     "execution_count": 18,
     "metadata": {},
     "output_type": "execute_result"
    }
   ],
   "source": [
    "df[\"Online boarding\"].unique()"
   ]
  },
  {
   "cell_type": "code",
   "execution_count": 19,
   "id": "00221667",
   "metadata": {},
   "outputs": [
    {
     "data": {
      "text/plain": [
       "array([3, 5, 2, 4, 1])"
      ]
     },
     "execution_count": 19,
     "metadata": {},
     "output_type": "execute_result"
    }
   ],
   "source": [
    "df[\"Seat comfort\"].unique()"
   ]
  },
  {
   "cell_type": "code",
   "execution_count": 20,
   "id": "02b5cc04",
   "metadata": {},
   "outputs": [
    {
     "data": {
      "text/plain": [
       "array([5, 4, 2, 1, 3, 0])"
      ]
     },
     "execution_count": 20,
     "metadata": {},
     "output_type": "execute_result"
    }
   ],
   "source": [
    "df[\"Inflight entertainment\"].unique()"
   ]
  },
  {
   "cell_type": "code",
   "execution_count": 21,
   "id": "1600c7ed",
   "metadata": {},
   "outputs": [
    {
     "data": {
      "text/plain": [
       "array([5, 4, 1, 2, 3, 0])"
      ]
     },
     "execution_count": 21,
     "metadata": {},
     "output_type": "execute_result"
    }
   ],
   "source": [
    "df[\"On-board service\"].unique()"
   ]
  },
  {
   "cell_type": "code",
   "execution_count": 22,
   "id": "0404653e",
   "metadata": {},
   "outputs": [
    {
     "data": {
      "text/plain": [
       "array([5, 4, 1, 2, 3, 0])"
      ]
     },
     "execution_count": 22,
     "metadata": {},
     "output_type": "execute_result"
    }
   ],
   "source": [
    "df[\"Leg room service\"].unique()"
   ]
  },
  {
   "cell_type": "code",
   "execution_count": 23,
   "id": "b67318ed",
   "metadata": {},
   "outputs": [
    {
     "data": {
      "text/plain": [
       "array([5, 4, 3, 1, 2])"
      ]
     },
     "execution_count": 23,
     "metadata": {},
     "output_type": "execute_result"
    }
   ],
   "source": [
    "df[\"Baggage handling\"].unique()"
   ]
  },
  {
   "cell_type": "code",
   "execution_count": 24,
   "id": "c7297561",
   "metadata": {},
   "outputs": [
    {
     "data": {
      "text/plain": [
       "array([2, 3, 4, 1, 5])"
      ]
     },
     "execution_count": 24,
     "metadata": {},
     "output_type": "execute_result"
    }
   ],
   "source": [
    "df[\"Checkin service\"].unique()"
   ]
  },
  {
   "cell_type": "code",
   "execution_count": 25,
   "id": "7b07c880",
   "metadata": {},
   "outputs": [
    {
     "data": {
      "text/plain": [
       "array([5, 4, 2, 1, 3, 0])"
      ]
     },
     "execution_count": 25,
     "metadata": {},
     "output_type": "execute_result"
    }
   ],
   "source": [
    "df[\"Inflight service\"].unique()"
   ]
  },
  {
   "cell_type": "code",
   "execution_count": 26,
   "id": "15d4bd4b",
   "metadata": {},
   "outputs": [
    {
     "data": {
      "text/plain": [
       "array([5, 2, 4, 3, 1, 0])"
      ]
     },
     "execution_count": 26,
     "metadata": {},
     "output_type": "execute_result"
    }
   ],
   "source": [
    "df[\"Cleanliness\"].unique()"
   ]
  },
  {
   "cell_type": "code",
   "execution_count": 27,
   "id": "379db9f4",
   "metadata": {},
   "outputs": [
    {
     "data": {
      "text/plain": [
       "array([  50,    0,   77,    1,   28,   29,   18,  117,   10,    5,    2,\n",
       "          8,   21,    3,   40,   80,   73,    4,  116,   59,   92,   20,\n",
       "         17,   30,   66,    9,    6,   14,   49,   44,   24,    7,   83,\n",
       "         13,   62,   16,   27,   94,   93,  180,   86,   82,   32,  100,\n",
       "         25,   34,   90,   23,  168,   96,   45,   35,   85,   11,   26,\n",
       "        102,   12,   33,   19,   15,   57,   51,  243,  152,   38,   42,\n",
       "         47,   60,   91,   52,  238,  150,   37,   71,   89,  108,  141,\n",
       "        132,   87,   81,   70,  140,   43,   41,  214,   63,  109,  145,\n",
       "         97,   56,   48,  114,  277,   22,  129,  493,   72,  332,   36,\n",
       "        125,   55,  136,   31,   64,  416,   46,   58,   39,  105,   68,\n",
       "        113,  124,  137,  187,   53,   79,  247,  126,   75,   98,   88,\n",
       "         69,  146,   74,  118,   54,  130,  222,  163,  205,  275,  167,\n",
       "        142,  204,   99,   67,  170,  104,  258,   61,  155,  202,  951,\n",
       "        190,  266,   65,  106,  107,  120,  290,  101,  209,  315,  302,\n",
       "        154,  143,  144,  135,  121,  228,  115,  203,  138,  366,  149,\n",
       "        134,  211,   76,  184,  131,  185,   84,  352,  166,  156,  157,\n",
       "        103,  151,  188,  111,  196,  161,  197,  255,  123,   78,  199,\n",
       "        381,  254,  139,  153,  128,  225,  223,  284,  251,  293,  298,\n",
       "        213,  312,  177,  396,  148,  217,  110,  112,  162,  384,  294,\n",
       "        244,  127,  178,   95,  182,  224,  489,  158,  207,  404,  165,\n",
       "        232,  189,  265,  175,  179,  447,  234,  201,  360,  147,  252,\n",
       "        198,  122,  333,  186,  174,  237,  164,  794,  200,  169,  159,\n",
       "        219,  226,  300,  172,  431,  181,  301,  119,  240,  191,  160,\n",
       "        590,  249,  423,  171,  259,  383,  239,  305,  377,  469,  318,\n",
       "        264,  282,  499,  210,  183,  133,  420,  348,  195,  311,  283,\n",
       "        338,  342,  194,  227, 1128,  257,  218,  220,  330,  230,  815,\n",
       "        412,  392,  581,  351,  292,  624,  192,  233,  206,  382,  241,\n",
       "        569,  756,  565,  358,  530,  221,  269,  279,  291,  326,  193,\n",
       "        285,  248,  262,  344,  295])"
      ]
     },
     "execution_count": 27,
     "metadata": {},
     "output_type": "execute_result"
    }
   ],
   "source": [
    "df[\"Departure Delay in Minutes\"].unique()"
   ]
  },
  {
   "cell_type": "code",
   "execution_count": 28,
   "id": "7e013dbb",
   "metadata": {},
   "outputs": [
    {
     "data": {
      "text/plain": [
       "array([4.400e+01, 0.000e+00, 6.000e+00, 2.000e+01, 6.500e+01, 1.400e+01,\n",
       "       1.900e+01, 7.000e+00, 1.130e+02, 2.000e+00, 4.900e+01, 1.300e+01,\n",
       "       6.800e+01, 1.000e+00, 7.000e+01, 1.200e+01, 1.000e+01, 4.000e+00,\n",
       "       1.770e+02, 3.000e+00, 5.500e+01, 9.000e+01, 3.200e+01, 4.600e+01,\n",
       "       5.700e+01, 4.700e+01, 4.000e+01, 2.400e+01, 2.700e+01, 5.200e+01,\n",
       "       1.700e+01, 1.100e+01, 3.400e+01, 9.500e+01, 6.600e+01, 8.000e+00,\n",
       "       8.600e+01, 8.800e+01, 1.780e+02, 7.800e+01, 1.800e+01, 7.200e+01,\n",
       "       4.100e+01, 9.100e+01, 3.500e+01, 1.600e+01, 2.500e+01, 7.700e+01,\n",
       "       9.400e+01, 1.630e+02, 1.020e+02, 4.200e+01, 1.500e+01, 9.000e+00,\n",
       "       8.500e+01, 2.300e+01, 2.800e+01, 3.000e+01, 7.100e+01, 5.000e+00,\n",
       "       7.900e+01, 2.510e+02, 1.510e+02, 3.800e+01, 6.200e+01, 2.100e+01,\n",
       "       2.900e+01, 9.300e+01, 2.320e+02, 1.560e+02, 1.170e+02, 2.600e+01,\n",
       "       5.100e+01, 9.900e+01, 1.210e+02, 7.500e+01, 6.300e+01, 9.200e+01,\n",
       "       4.500e+01, 1.230e+02, 1.290e+02, 8.400e+01,       nan, 2.100e+02,\n",
       "       1.000e+02, 2.200e+01, 5.800e+01, 1.470e+02, 6.100e+01, 2.750e+02,\n",
       "       1.190e+02, 4.850e+02, 6.000e+01, 3.100e+01, 3.360e+02, 1.280e+02,\n",
       "       4.800e+01, 9.700e+01, 6.900e+01, 5.900e+01, 5.000e+01, 4.070e+02,\n",
       "       5.400e+01, 4.300e+01, 1.010e+02, 3.700e+01, 9.600e+01, 1.050e+02,\n",
       "       8.200e+01, 1.140e+02, 1.380e+02, 1.910e+02, 3.300e+01, 2.860e+02,\n",
       "       1.220e+02, 1.030e+02, 8.000e+01, 5.300e+01, 6.400e+01, 7.300e+01,\n",
       "       1.710e+02, 1.240e+02, 1.090e+02, 5.600e+01, 1.150e+02, 8.700e+01,\n",
       "       3.600e+01, 2.210e+02, 1.600e+02, 2.400e+02, 2.480e+02, 1.390e+02,\n",
       "       1.970e+02, 1.040e+02, 1.550e+02, 2.470e+02, 7.600e+01, 6.700e+01,\n",
       "       3.900e+01, 2.070e+02, 9.400e+02, 8.300e+01, 1.810e+02, 2.050e+02,\n",
       "       2.010e+02, 2.620e+02, 9.800e+01, 1.620e+02, 1.110e+02, 2.850e+02,\n",
       "       1.940e+02, 1.400e+02, 2.990e+02, 2.960e+02, 1.250e+02, 1.490e+02,\n",
       "       1.480e+02, 1.330e+02, 1.350e+02, 1.060e+02, 1.310e+02, 2.110e+02,\n",
       "       1.430e+02, 1.420e+02, 1.070e+02, 2.030e+02, 7.400e+01, 1.790e+02,\n",
       "       8.100e+01, 3.470e+02, 2.000e+02, 2.040e+02, 1.880e+02, 1.760e+02,\n",
       "       1.410e+02, 3.440e+02, 8.900e+01, 1.340e+02, 1.840e+02, 1.360e+02,\n",
       "       1.100e+02, 1.200e+02, 1.580e+02, 1.740e+02, 2.360e+02, 1.440e+02,\n",
       "       1.850e+02, 1.720e+02, 1.180e+02, 1.500e+02, 3.740e+02, 1.080e+02,\n",
       "       1.270e+02, 1.640e+02, 1.160e+02, 2.430e+02, 1.370e+02, 1.730e+02,\n",
       "       2.530e+02, 1.120e+02, 3.060e+02, 2.920e+02, 1.670e+02, 3.120e+02,\n",
       "       2.250e+02, 3.810e+02, 2.090e+02, 2.170e+02, 2.240e+02, 1.260e+02,\n",
       "       1.650e+02, 1.860e+02, 1.820e+02, 2.230e+02, 4.010e+02, 1.590e+02,\n",
       "       2.800e+02, 2.610e+02, 2.350e+02, 4.910e+02, 1.660e+02, 4.130e+02,\n",
       "       1.830e+02, 1.980e+02, 2.650e+02, 1.690e+02, 1.890e+02, 4.380e+02,\n",
       "       2.780e+02, 1.990e+02, 3.880e+02, 2.310e+02, 2.220e+02, 1.320e+02,\n",
       "       2.710e+02, 3.250e+02, 1.900e+02, 2.810e+02, 1.610e+02, 2.590e+02,\n",
       "       3.030e+02, 1.540e+02, 2.120e+02, 1.570e+02, 2.390e+02, 7.950e+02,\n",
       "       2.080e+02, 2.180e+02, 1.530e+02, 1.680e+02, 1.450e+02, 2.130e+02,\n",
       "       1.520e+02, 3.070e+02, 4.020e+02, 3.040e+02, 1.300e+02, 1.870e+02,\n",
       "       2.440e+02, 2.150e+02, 6.080e+02, 3.130e+02, 1.800e+02, 4.000e+02,\n",
       "       3.580e+02, 2.450e+02, 3.010e+02, 4.030e+02, 2.270e+02, 3.680e+02,\n",
       "       4.930e+02, 2.890e+02, 4.730e+02, 3.490e+02, 2.370e+02, 3.170e+02,\n",
       "       1.920e+02, 3.160e+02, 1.115e+03, 1.960e+02, 1.700e+02, 2.410e+02,\n",
       "       2.020e+02, 2.380e+02, 3.200e+02, 2.140e+02, 8.220e+02, 1.750e+02,\n",
       "       4.100e+02, 5.800e+02, 3.570e+02, 2.910e+02, 6.150e+02, 1.930e+02,\n",
       "       1.460e+02, 3.500e+02, 2.290e+02, 2.540e+02, 3.720e+02, 2.420e+02,\n",
       "       5.430e+02, 2.550e+02, 2.190e+02, 2.760e+02, 7.480e+02, 5.860e+02,\n",
       "       2.730e+02, 3.330e+02, 2.720e+02, 2.520e+02, 3.300e+02, 2.790e+02,\n",
       "       2.200e+02, 3.190e+02, 3.050e+02, 2.500e+02, 2.770e+02, 2.460e+02,\n",
       "       2.330e+02, 3.110e+02, 2.880e+02])"
      ]
     },
     "execution_count": 28,
     "metadata": {},
     "output_type": "execute_result"
    }
   ],
   "source": [
    "df[\"Arrival Delay in Minutes\"].unique()"
   ]
  },
  {
   "cell_type": "code",
   "execution_count": 29,
   "id": "ec521028",
   "metadata": {},
   "outputs": [
    {
     "data": {
      "text/plain": [
       "array(['satisfied', 'neutral or dissatisfied'], dtype=object)"
      ]
     },
     "execution_count": 29,
     "metadata": {},
     "output_type": "execute_result"
    }
   ],
   "source": [
    "df[\"satisfaction\"].unique()"
   ]
  },
  {
   "cell_type": "code",
   "execution_count": 30,
   "id": "cdb18f8a",
   "metadata": {},
   "outputs": [],
   "source": [
    "from sklearn.preprocessing import LabelEncoder\n",
    "\n",
    "le = LabelEncoder()\n",
    "df[\"Gender\"] = le.fit_transform(df[\"Gender\"])\n",
    "df[\"Customer Type\"] = le.fit_transform(df[\"Customer Type\"])\n",
    "df[\"Type of Travel\"] = le.fit_transform(df[\"Type of Travel\"])\n",
    "df[\"Class\"] = le.fit_transform(df[\"Class\"])\n",
    "df[\"satisfaction\"] = le.fit_transform(df[\"satisfaction\"])"
   ]
  },
  {
   "cell_type": "code",
   "execution_count": 31,
   "id": "f3514d86",
   "metadata": {},
   "outputs": [
    {
     "data": {
      "text/html": [
       "<div>\n",
       "<style scoped>\n",
       "    .dataframe tbody tr th:only-of-type {\n",
       "        vertical-align: middle;\n",
       "    }\n",
       "\n",
       "    .dataframe tbody tr th {\n",
       "        vertical-align: top;\n",
       "    }\n",
       "\n",
       "    .dataframe thead th {\n",
       "        text-align: right;\n",
       "    }\n",
       "</style>\n",
       "<table border=\"1\" class=\"dataframe\">\n",
       "  <thead>\n",
       "    <tr style=\"text-align: right;\">\n",
       "      <th></th>\n",
       "      <th>Unnamed: 0</th>\n",
       "      <th>id</th>\n",
       "      <th>Gender</th>\n",
       "      <th>Customer Type</th>\n",
       "      <th>Age</th>\n",
       "      <th>Type of Travel</th>\n",
       "      <th>Class</th>\n",
       "      <th>Flight Distance</th>\n",
       "      <th>Inflight wifi service</th>\n",
       "      <th>Departure/Arrival time convenient</th>\n",
       "      <th>...</th>\n",
       "      <th>Inflight entertainment</th>\n",
       "      <th>On-board service</th>\n",
       "      <th>Leg room service</th>\n",
       "      <th>Baggage handling</th>\n",
       "      <th>Checkin service</th>\n",
       "      <th>Inflight service</th>\n",
       "      <th>Cleanliness</th>\n",
       "      <th>Departure Delay in Minutes</th>\n",
       "      <th>Arrival Delay in Minutes</th>\n",
       "      <th>satisfaction</th>\n",
       "    </tr>\n",
       "  </thead>\n",
       "  <tbody>\n",
       "    <tr>\n",
       "      <th>0.25</th>\n",
       "      <td>6493.75</td>\n",
       "      <td>32170.50</td>\n",
       "      <td>0.0</td>\n",
       "      <td>0.0</td>\n",
       "      <td>27.0</td>\n",
       "      <td>0.0</td>\n",
       "      <td>0.0</td>\n",
       "      <td>414.0</td>\n",
       "      <td>2.0</td>\n",
       "      <td>2.0</td>\n",
       "      <td>...</td>\n",
       "      <td>2.0</td>\n",
       "      <td>2.0</td>\n",
       "      <td>2.0</td>\n",
       "      <td>3.0</td>\n",
       "      <td>3.0</td>\n",
       "      <td>3.0</td>\n",
       "      <td>2.0</td>\n",
       "      <td>0.0</td>\n",
       "      <td>0.0</td>\n",
       "      <td>0.0</td>\n",
       "    </tr>\n",
       "    <tr>\n",
       "      <th>0.75</th>\n",
       "      <td>19481.25</td>\n",
       "      <td>97584.25</td>\n",
       "      <td>1.0</td>\n",
       "      <td>0.0</td>\n",
       "      <td>51.0</td>\n",
       "      <td>1.0</td>\n",
       "      <td>1.0</td>\n",
       "      <td>1744.0</td>\n",
       "      <td>4.0</td>\n",
       "      <td>4.0</td>\n",
       "      <td>...</td>\n",
       "      <td>4.0</td>\n",
       "      <td>4.0</td>\n",
       "      <td>4.0</td>\n",
       "      <td>5.0</td>\n",
       "      <td>4.0</td>\n",
       "      <td>5.0</td>\n",
       "      <td>4.0</td>\n",
       "      <td>12.0</td>\n",
       "      <td>13.0</td>\n",
       "      <td>1.0</td>\n",
       "    </tr>\n",
       "  </tbody>\n",
       "</table>\n",
       "<p>2 rows × 25 columns</p>\n",
       "</div>"
      ],
      "text/plain": [
       "      Unnamed: 0        id  Gender  Customer Type   Age  Type of Travel   \n",
       "0.25     6493.75  32170.50     0.0            0.0  27.0             0.0  \\\n",
       "0.75    19481.25  97584.25     1.0            0.0  51.0             1.0   \n",
       "\n",
       "      Class  Flight Distance  Inflight wifi service   \n",
       "0.25    0.0            414.0                    2.0  \\\n",
       "0.75    1.0           1744.0                    4.0   \n",
       "\n",
       "      Departure/Arrival time convenient  ...  Inflight entertainment   \n",
       "0.25                                2.0  ...                     2.0  \\\n",
       "0.75                                4.0  ...                     4.0   \n",
       "\n",
       "      On-board service  Leg room service  Baggage handling  Checkin service   \n",
       "0.25               2.0               2.0               3.0              3.0  \\\n",
       "0.75               4.0               4.0               5.0              4.0   \n",
       "\n",
       "      Inflight service  Cleanliness  Departure Delay in Minutes   \n",
       "0.25               3.0          2.0                         0.0  \\\n",
       "0.75               5.0          4.0                        12.0   \n",
       "\n",
       "      Arrival Delay in Minutes  satisfaction  \n",
       "0.25                       0.0           0.0  \n",
       "0.75                      13.0           1.0  \n",
       "\n",
       "[2 rows x 25 columns]"
      ]
     },
     "execution_count": 31,
     "metadata": {},
     "output_type": "execute_result"
    }
   ],
   "source": [
    "quant = df.quantile(q=[0.25, 0.75], axis = 0)\n",
    "quant"
   ]
  },
  {
   "cell_type": "code",
   "execution_count": 32,
   "id": "fee3cede",
   "metadata": {},
   "outputs": [],
   "source": [
    "df['Customer Type'] = np.where(df[ 'Customer Type']>0.1,0, df['Customer Type'])\n",
    "df['Customer Type'] = np.where(df[ 'Customer Type']<0,0,df['Customer Type'])\n",
    "\n",
    "df['Flight Distance'] = np.where(df['Flight Distance']>3788,1744, df['Flight Distance'])\n",
    "df['Flight Distance'] = np.where(df['Flight Distance']<8,414,df['Flight Distance'])\n",
    "\n",
    "df['Checkin service'] = np.where(df[ 'Checkin service']>4.9,4.0, df['Checkin service'])\n",
    "df['Checkin service'] = np.where(df[ 'Checkin service']<2,3.0,df['Checkin service'])\n",
    "\n",
    "df['Departure Delay in Minutes'] = np.where(df[ 'Departure Delay in Minutes']>10, 12, df[ 'Departure Delay in Minutes'])\n",
    "df[ 'Departure Delay in Minutes'] = np.where(df[ 'Departure Delay in Minutes']<0,3.0,df[ 'Departure Delay in Minutes'])\n",
    "\n",
    "df['Arrival Delay in Minutes'] = np.where(df['Arrival Delay in Minutes']>10,13, df['Arrival Delay in Minutes'])\n",
    "df['Arrival Delay in Minutes'] = np.where(df['Arrival Delay in Minutes']<0,3.0,df['Arrival Delay in Minutes'])"
   ]
  },
  {
   "cell_type": "code",
   "execution_count": 33,
   "id": "09d2d109",
   "metadata": {
    "scrolled": true
   },
   "outputs": [
    {
     "data": {
      "text/html": [
       "<div>\n",
       "<style scoped>\n",
       "    .dataframe tbody tr th:only-of-type {\n",
       "        vertical-align: middle;\n",
       "    }\n",
       "\n",
       "    .dataframe tbody tr th {\n",
       "        vertical-align: top;\n",
       "    }\n",
       "\n",
       "    .dataframe thead th {\n",
       "        text-align: right;\n",
       "    }\n",
       "</style>\n",
       "<table border=\"1\" class=\"dataframe\">\n",
       "  <thead>\n",
       "    <tr style=\"text-align: right;\">\n",
       "      <th></th>\n",
       "      <th>Unnamed: 0</th>\n",
       "      <th>id</th>\n",
       "      <th>Gender</th>\n",
       "      <th>Customer Type</th>\n",
       "      <th>Age</th>\n",
       "      <th>Type of Travel</th>\n",
       "      <th>Class</th>\n",
       "      <th>Flight Distance</th>\n",
       "      <th>Inflight wifi service</th>\n",
       "      <th>Departure/Arrival time convenient</th>\n",
       "      <th>...</th>\n",
       "      <th>Inflight entertainment</th>\n",
       "      <th>On-board service</th>\n",
       "      <th>Leg room service</th>\n",
       "      <th>Baggage handling</th>\n",
       "      <th>Checkin service</th>\n",
       "      <th>Inflight service</th>\n",
       "      <th>Cleanliness</th>\n",
       "      <th>Departure Delay in Minutes</th>\n",
       "      <th>Arrival Delay in Minutes</th>\n",
       "      <th>satisfaction</th>\n",
       "    </tr>\n",
       "  </thead>\n",
       "  <tbody>\n",
       "    <tr>\n",
       "      <th>count</th>\n",
       "      <td>25976.000000</td>\n",
       "      <td>25976.000000</td>\n",
       "      <td>25976.000000</td>\n",
       "      <td>25976.0</td>\n",
       "      <td>25976.000000</td>\n",
       "      <td>25976.000000</td>\n",
       "      <td>25976.000000</td>\n",
       "      <td>25976.000000</td>\n",
       "      <td>25976.000000</td>\n",
       "      <td>25976.000000</td>\n",
       "      <td>...</td>\n",
       "      <td>25976.000000</td>\n",
       "      <td>25976.000000</td>\n",
       "      <td>25976.000000</td>\n",
       "      <td>25976.000000</td>\n",
       "      <td>25976.000000</td>\n",
       "      <td>25976.000000</td>\n",
       "      <td>25976.000000</td>\n",
       "      <td>25976.000000</td>\n",
       "      <td>25893.000000</td>\n",
       "      <td>25976.000000</td>\n",
       "    </tr>\n",
       "    <tr>\n",
       "      <th>mean</th>\n",
       "      <td>12987.500000</td>\n",
       "      <td>65005.657992</td>\n",
       "      <td>0.492917</td>\n",
       "      <td>0.0</td>\n",
       "      <td>39.620958</td>\n",
       "      <td>0.305590</td>\n",
       "      <td>0.592778</td>\n",
       "      <td>1153.616993</td>\n",
       "      <td>2.724746</td>\n",
       "      <td>3.046812</td>\n",
       "      <td>...</td>\n",
       "      <td>3.357753</td>\n",
       "      <td>3.385664</td>\n",
       "      <td>3.350169</td>\n",
       "      <td>3.633238</td>\n",
       "      <td>3.359293</td>\n",
       "      <td>3.649253</td>\n",
       "      <td>3.286226</td>\n",
       "      <td>3.977248</td>\n",
       "      <td>4.389101</td>\n",
       "      <td>0.438982</td>\n",
       "    </tr>\n",
       "    <tr>\n",
       "      <th>std</th>\n",
       "      <td>7498.769632</td>\n",
       "      <td>37611.526647</td>\n",
       "      <td>0.499959</td>\n",
       "      <td>0.0</td>\n",
       "      <td>15.135685</td>\n",
       "      <td>0.460666</td>\n",
       "      <td>0.623703</td>\n",
       "      <td>929.108719</td>\n",
       "      <td>1.335384</td>\n",
       "      <td>1.533371</td>\n",
       "      <td>...</td>\n",
       "      <td>1.338299</td>\n",
       "      <td>1.282088</td>\n",
       "      <td>1.318862</td>\n",
       "      <td>1.176525</td>\n",
       "      <td>0.690865</td>\n",
       "      <td>1.180681</td>\n",
       "      <td>1.319330</td>\n",
       "      <td>5.245509</td>\n",
       "      <td>5.724003</td>\n",
       "      <td>0.496272</td>\n",
       "    </tr>\n",
       "    <tr>\n",
       "      <th>min</th>\n",
       "      <td>0.000000</td>\n",
       "      <td>17.000000</td>\n",
       "      <td>0.000000</td>\n",
       "      <td>0.0</td>\n",
       "      <td>7.000000</td>\n",
       "      <td>0.000000</td>\n",
       "      <td>0.000000</td>\n",
       "      <td>31.000000</td>\n",
       "      <td>0.000000</td>\n",
       "      <td>0.000000</td>\n",
       "      <td>...</td>\n",
       "      <td>0.000000</td>\n",
       "      <td>0.000000</td>\n",
       "      <td>0.000000</td>\n",
       "      <td>1.000000</td>\n",
       "      <td>2.000000</td>\n",
       "      <td>0.000000</td>\n",
       "      <td>0.000000</td>\n",
       "      <td>0.000000</td>\n",
       "      <td>0.000000</td>\n",
       "      <td>0.000000</td>\n",
       "    </tr>\n",
       "    <tr>\n",
       "      <th>25%</th>\n",
       "      <td>6493.750000</td>\n",
       "      <td>32170.500000</td>\n",
       "      <td>0.000000</td>\n",
       "      <td>0.0</td>\n",
       "      <td>27.000000</td>\n",
       "      <td>0.000000</td>\n",
       "      <td>0.000000</td>\n",
       "      <td>414.000000</td>\n",
       "      <td>2.000000</td>\n",
       "      <td>2.000000</td>\n",
       "      <td>...</td>\n",
       "      <td>2.000000</td>\n",
       "      <td>2.000000</td>\n",
       "      <td>2.000000</td>\n",
       "      <td>3.000000</td>\n",
       "      <td>3.000000</td>\n",
       "      <td>3.000000</td>\n",
       "      <td>2.000000</td>\n",
       "      <td>0.000000</td>\n",
       "      <td>0.000000</td>\n",
       "      <td>0.000000</td>\n",
       "    </tr>\n",
       "    <tr>\n",
       "      <th>50%</th>\n",
       "      <td>12987.500000</td>\n",
       "      <td>65319.500000</td>\n",
       "      <td>0.000000</td>\n",
       "      <td>0.0</td>\n",
       "      <td>40.000000</td>\n",
       "      <td>0.000000</td>\n",
       "      <td>1.000000</td>\n",
       "      <td>849.000000</td>\n",
       "      <td>3.000000</td>\n",
       "      <td>3.000000</td>\n",
       "      <td>...</td>\n",
       "      <td>4.000000</td>\n",
       "      <td>4.000000</td>\n",
       "      <td>4.000000</td>\n",
       "      <td>4.000000</td>\n",
       "      <td>3.000000</td>\n",
       "      <td>4.000000</td>\n",
       "      <td>3.000000</td>\n",
       "      <td>0.000000</td>\n",
       "      <td>0.000000</td>\n",
       "      <td>0.000000</td>\n",
       "    </tr>\n",
       "    <tr>\n",
       "      <th>75%</th>\n",
       "      <td>19481.250000</td>\n",
       "      <td>97584.250000</td>\n",
       "      <td>1.000000</td>\n",
       "      <td>0.0</td>\n",
       "      <td>51.000000</td>\n",
       "      <td>1.000000</td>\n",
       "      <td>1.000000</td>\n",
       "      <td>1744.000000</td>\n",
       "      <td>4.000000</td>\n",
       "      <td>4.000000</td>\n",
       "      <td>...</td>\n",
       "      <td>4.000000</td>\n",
       "      <td>4.000000</td>\n",
       "      <td>4.000000</td>\n",
       "      <td>5.000000</td>\n",
       "      <td>4.000000</td>\n",
       "      <td>5.000000</td>\n",
       "      <td>4.000000</td>\n",
       "      <td>12.000000</td>\n",
       "      <td>13.000000</td>\n",
       "      <td>1.000000</td>\n",
       "    </tr>\n",
       "    <tr>\n",
       "      <th>max</th>\n",
       "      <td>25975.000000</td>\n",
       "      <td>129877.000000</td>\n",
       "      <td>1.000000</td>\n",
       "      <td>0.0</td>\n",
       "      <td>85.000000</td>\n",
       "      <td>1.000000</td>\n",
       "      <td>2.000000</td>\n",
       "      <td>3788.000000</td>\n",
       "      <td>5.000000</td>\n",
       "      <td>5.000000</td>\n",
       "      <td>...</td>\n",
       "      <td>5.000000</td>\n",
       "      <td>5.000000</td>\n",
       "      <td>5.000000</td>\n",
       "      <td>5.000000</td>\n",
       "      <td>4.000000</td>\n",
       "      <td>5.000000</td>\n",
       "      <td>5.000000</td>\n",
       "      <td>12.000000</td>\n",
       "      <td>13.000000</td>\n",
       "      <td>1.000000</td>\n",
       "    </tr>\n",
       "  </tbody>\n",
       "</table>\n",
       "<p>8 rows × 25 columns</p>\n",
       "</div>"
      ],
      "text/plain": [
       "         Unnamed: 0             id        Gender  Customer Type           Age   \n",
       "count  25976.000000   25976.000000  25976.000000        25976.0  25976.000000  \\\n",
       "mean   12987.500000   65005.657992      0.492917            0.0     39.620958   \n",
       "std     7498.769632   37611.526647      0.499959            0.0     15.135685   \n",
       "min        0.000000      17.000000      0.000000            0.0      7.000000   \n",
       "25%     6493.750000   32170.500000      0.000000            0.0     27.000000   \n",
       "50%    12987.500000   65319.500000      0.000000            0.0     40.000000   \n",
       "75%    19481.250000   97584.250000      1.000000            0.0     51.000000   \n",
       "max    25975.000000  129877.000000      1.000000            0.0     85.000000   \n",
       "\n",
       "       Type of Travel         Class  Flight Distance  Inflight wifi service   \n",
       "count    25976.000000  25976.000000     25976.000000           25976.000000  \\\n",
       "mean         0.305590      0.592778      1153.616993               2.724746   \n",
       "std          0.460666      0.623703       929.108719               1.335384   \n",
       "min          0.000000      0.000000        31.000000               0.000000   \n",
       "25%          0.000000      0.000000       414.000000               2.000000   \n",
       "50%          0.000000      1.000000       849.000000               3.000000   \n",
       "75%          1.000000      1.000000      1744.000000               4.000000   \n",
       "max          1.000000      2.000000      3788.000000               5.000000   \n",
       "\n",
       "       Departure/Arrival time convenient  ...  Inflight entertainment   \n",
       "count                       25976.000000  ...            25976.000000  \\\n",
       "mean                            3.046812  ...                3.357753   \n",
       "std                             1.533371  ...                1.338299   \n",
       "min                             0.000000  ...                0.000000   \n",
       "25%                             2.000000  ...                2.000000   \n",
       "50%                             3.000000  ...                4.000000   \n",
       "75%                             4.000000  ...                4.000000   \n",
       "max                             5.000000  ...                5.000000   \n",
       "\n",
       "       On-board service  Leg room service  Baggage handling  Checkin service   \n",
       "count      25976.000000      25976.000000      25976.000000     25976.000000  \\\n",
       "mean           3.385664          3.350169          3.633238         3.359293   \n",
       "std            1.282088          1.318862          1.176525         0.690865   \n",
       "min            0.000000          0.000000          1.000000         2.000000   \n",
       "25%            2.000000          2.000000          3.000000         3.000000   \n",
       "50%            4.000000          4.000000          4.000000         3.000000   \n",
       "75%            4.000000          4.000000          5.000000         4.000000   \n",
       "max            5.000000          5.000000          5.000000         4.000000   \n",
       "\n",
       "       Inflight service   Cleanliness  Departure Delay in Minutes   \n",
       "count      25976.000000  25976.000000                25976.000000  \\\n",
       "mean           3.649253      3.286226                    3.977248   \n",
       "std            1.180681      1.319330                    5.245509   \n",
       "min            0.000000      0.000000                    0.000000   \n",
       "25%            3.000000      2.000000                    0.000000   \n",
       "50%            4.000000      3.000000                    0.000000   \n",
       "75%            5.000000      4.000000                   12.000000   \n",
       "max            5.000000      5.000000                   12.000000   \n",
       "\n",
       "       Arrival Delay in Minutes  satisfaction  \n",
       "count              25893.000000  25976.000000  \n",
       "mean                   4.389101      0.438982  \n",
       "std                    5.724003      0.496272  \n",
       "min                    0.000000      0.000000  \n",
       "25%                    0.000000      0.000000  \n",
       "50%                    0.000000      0.000000  \n",
       "75%                   13.000000      1.000000  \n",
       "max                   13.000000      1.000000  \n",
       "\n",
       "[8 rows x 25 columns]"
      ]
     },
     "execution_count": 33,
     "metadata": {},
     "output_type": "execute_result"
    }
   ],
   "source": [
    "df.describe()"
   ]
  },
  {
   "cell_type": "code",
   "execution_count": 34,
   "id": "956d963a",
   "metadata": {},
   "outputs": [
    {
     "data": {
      "image/png": "[encoded data removed]",
      "text/plain": [
       "<Figure size 1200x1500 with 2 Axes>"
      ]
     },
     "metadata": {},
     "output_type": "display_data"
    }
   ],
   "source": [
    "plt.figure(figsize=(12, 15))\n",
    "plt.subplot(121)\n",
    "sns.distplot(df[\"Age\"], color=\"r\")\n",
    "plt.subplot(122)\n",
    "sns.distplot(df[\"Cleanliness\"])\n",
    "plt.show()"
   ]
  },
  {
   "cell_type": "code",
   "execution_count": 58,
   "id": "4ca4e296",
   "metadata": {},
   "outputs": [],
   "source": [
    "df.replace([np.inf, -np.inf], np.nan, inplace=True)\n",
    "df.fillna(0, inplace=True)\n",
    "data = df\n",
    "\n",
    "X = data.iloc[:, 2:-1]\n",
    "y = data.iloc[:, -1]"
   ]
  },
  {
   "cell_type": "code",
   "execution_count": 59,
   "id": "b93f28e7",
   "metadata": {},
   "outputs": [
    {
     "name": "stdout",
     "output_type": "stream",
     "text": [
      "Gender\n",
      "Customer Type\n",
      "Age\n",
      "Type of Travel\n",
      "Class\n",
      "Flight Distance\n",
      "Inflight wifi service\n",
      "Departure/Arrival time convenient\n",
      "Ease of Online booking\n",
      "Gate location\n",
      "Food and drink\n",
      "Online boarding\n",
      "Seat comfort\n",
      "Inflight entertainment\n",
      "On-board service\n",
      "Leg room service\n",
      "Baggage handling\n",
      "Checkin service\n",
      "Inflight service\n",
      "Cleanliness\n",
      "Departure Delay in Minutes\n",
      "Arrival Delay in Minutes\n"
     ]
    }
   ],
   "source": [
    "X_train, X_test, y_train, y_test = train_test_split(X, df[\"satisfaction\"], test_size=0.2)\n",
    "\n",
    "for i in (X_train.columns):\n",
    "    print(i)\n",
    "# X_test"
   ]
  },
  {
   "cell_type": "code",
   "execution_count": 60,
   "id": "63fc208e",
   "metadata": {},
   "outputs": [
    {
     "data": {
      "text/plain": [
       "((20780, 22), (20780,))"
      ]
     },
     "execution_count": 60,
     "metadata": {},
     "output_type": "execute_result"
    }
   ],
   "source": [
    "X_train.shape, y_train.shape"
   ]
  },
  {
   "cell_type": "code",
   "execution_count": 61,
   "id": "17286066",
   "metadata": {},
   "outputs": [
    {
     "data": {
      "text/plain": [
       "((5196, 22), (5196,))"
      ]
     },
     "execution_count": 61,
     "metadata": {},
     "output_type": "execute_result"
    }
   ],
   "source": [
    "X_test.shape, y_test.shape"
   ]
  },
  {
   "cell_type": "code",
   "execution_count": 62,
   "id": "f60c10bc",
   "metadata": {},
   "outputs": [],
   "source": [
    "#Decision tree\n",
    "def dt(X_train, y_train, X_test, y_test):\n",
    "    reg3 = DecisionTreeClassifier(criterion=\"entropy\")\n",
    "    reg3.fit(X_train, y_train)\n",
    "    print(\"Accuracy:\")\n",
    "    print(\"Training accuracy=\", reg3.score(X_train, y_train))\n",
    "    print(\"Test accuracy=\", reg3.score(X_test, y_test))\n",
    "    y_test_pred = reg3.predict(X_test)\n",
    "    print(\"Test data confusion matrix:\", confusion_matrix(y_test, y_test_pred))\n",
    "    print(\"Test data classification report:\", classification_report(y_test, y_test_pred))"
   ]
  },
  {
   "cell_type": "code",
   "execution_count": 63,
   "id": "0e26afd3",
   "metadata": {},
   "outputs": [],
   "source": [
    "#Random forest\n",
    "def RF(X_train, y_train, X_test, y_test):\n",
    "    reg3 = RandomForestClassifier()\n",
    "    reg3.fit(X_train, y_train)\n",
    "    print(\"Accuracy:\")\n",
    "    print(\"Training accuracy=\", reg3.score(X_train, y_train))\n",
    "    print(\"Test accuracy=\", reg3.score(X_test, y_test))\n",
    "    y_test_pred = reg3.predict(X_test)\n",
    "    print(\"Test data confusion matrix:\", confusion_matrix(y_test, y_test_pred))\n",
    "    print(\"Test data classification report:\", classification_report(y_test, y_test_pred))"
   ]
  },
  {
   "cell_type": "code",
   "execution_count": 64,
   "id": "5cba9bfb",
   "metadata": {},
   "outputs": [],
   "source": [
    "#KNN\n",
    "def knn(X_train, y_train, X_test, y_test):\n",
    "    reg3 = KNeighborsClassifier(n_neighbours)\n",
    "    reg3.fit(X_train, y_train)\n",
    "    print(\"Accuracy:\")\n",
    "    print(\"Training accuracy=\", reg3.score(X_train, y_train))\n",
    "    print(\"Test accuracy=\", reg3.score(X_test, y_test))\n",
    "    y_test_pred = reg3.predict(X_test)\n",
    "    print(\"Test data confusion matrix:\", confusion_matrix(y_test, y_test_pred))\n",
    "    print(\"Test data classification report:\", classification_report(y_test, y_test_pred))"
   ]
  },
  {
   "cell_type": "code",
   "execution_count": 65,
   "id": "223c7e94",
   "metadata": {},
   "outputs": [],
   "source": [
    "#Logistic regression\n",
    "def lg(X_train, y_train, X_test, y_test):\n",
    "    reg3 = LogisticRegression()\n",
    "    reg3.fit(X_train, y_train)\n",
    "    print(\"Accuracy:\")\n",
    "    print(\"Training accuracy=\", reg3.score(X_train, y_train))\n",
    "    print(\"Test accuracy=\", reg3.score(X_test, y_test))\n",
    "    y_test_pred = reg3.predict(X_test)\n",
    "    print(\"Test data confusion matrix:\", confusion_matrix(y_test, y_test_pred))\n",
    "    print(\"Test data classification report:\", classification_report(y_test, y_test_pred))"
   ]
  },
  {
   "cell_type": "code",
   "execution_count": 66,
   "id": "f63fc650",
   "metadata": {},
   "outputs": [
    {
     "name": "stdout",
     "output_type": "stream",
     "text": [
      "Accuracy:\n",
      "Training accuracy= 1.0\n",
      "Test accuracy= 0.9439953810623557\n",
      "Test data confusion matrix: [[2764  109]\n",
      " [ 182 2141]]\n",
      "Test data classification report:               precision    recall  f1-score   support\n",
      "\n",
      "           0       0.94      0.96      0.95      2873\n",
      "           1       0.95      0.92      0.94      2323\n",
      "\n",
      "    accuracy                           0.94      5196\n",
      "   macro avg       0.94      0.94      0.94      5196\n",
      "weighted avg       0.94      0.94      0.94      5196\n",
      "\n"
     ]
    }
   ],
   "source": [
    "RF(X_train, y_train, X_test, y_test)"
   ]
  },
  {
   "cell_type": "code",
   "execution_count": 74,
   "id": "a2056f2b",
   "metadata": {},
   "outputs": [
    {
     "ename": "NameError",
     "evalue": "name 'x_train' is not defined",
     "output_type": "error",
     "traceback": [
      "\u001b[0;31m---------------------------------------------------------------------------\u001b[0m",
      "\u001b[0;31mNameError\u001b[0m                                 Traceback (most recent call last)",
      "Cell \u001b[0;32mIn[74], line 2\u001b[0m\n\u001b[1;32m      1\u001b[0m \u001b[38;5;28;01mfor\u001b[39;00m i \u001b[38;5;129;01min\u001b[39;00m \u001b[38;5;28mrange\u001b[39m(\u001b[38;5;28mlen\u001b[39m(X_train\u001b[38;5;241m.\u001b[39mcolumns)):\n\u001b[0;32m----> 2\u001b[0m     \u001b[38;5;28mprint\u001b[39m(i\u001b[38;5;241m+\u001b[39m\u001b[38;5;241m1\u001b[39m, \u001b[43mx_train\u001b[49m\u001b[38;5;241m.\u001b[39mcolumns[i])\n\u001b[1;32m      4\u001b[0m rfc \u001b[38;5;241m=\u001b[39m RandomForestClassifier(criterion \u001b[38;5;241m=\u001b[39m \u001b[38;5;124m\"\u001b[39m\u001b[38;5;124mgini\u001b[39m\u001b[38;5;124m\"\u001b[39m, max_depth \u001b[38;5;241m=\u001b[39m \u001b[38;5;241m30\u001b[39m, n_estimators \u001b[38;5;241m=\u001b[39m\u001b[38;5;241m200\u001b[39m)\n\u001b[1;32m      5\u001b[0m rfc\u001b[38;5;241m.\u001b[39mfit(X_train, y_train)\n",
      "\u001b[0;31mNameError\u001b[0m: name 'x_train' is not defined"
     ]
    }
   ],
   "source": [
    "for i in range(len(X_train.columns)):\n",
    "    print(i+1, X_train.columns[i])\n",
    "\n",
    "rfc = RandomForestClassifier(criterion = \"gini\", max_depth = 30, n_estimators =200)\n",
    "rfc.fit(X_train, y_train)\n",
    "y_pred = rfc.predict(X_test)\n",
    "\n",
    "cm = confusion_matrix(y_test, y_pred)\n",
    "cm"
   ]
  },
  {
   "cell_type": "code",
   "execution_count": 68,
   "id": "53d5faf5",
   "metadata": {},
   "outputs": [
    {
     "data": {
      "text/plain": [
       "0.945342571208622"
      ]
     },
     "execution_count": 68,
     "metadata": {},
     "output_type": "execute_result"
    }
   ],
   "source": [
    "from sklearn.metrics import accuracy_score\n",
    "acc = accuracy_score(y_test, y_pred)\n",
    "acc"
   ]
  },
  {
   "cell_type": "code",
   "execution_count": 69,
   "id": "c2a1c3c8",
   "metadata": {},
   "outputs": [],
   "source": [
    "import pickle\n",
    "with open(\"./Airline Passengers.pkl\", \"wb\") as f:\n",
    "    pickle.dump(rfc, f)\n",
    "    \n",
    "Airline = pickle.load(open(\"./Airline Passengers.pkl\", \"rb\"))"
   ]
  },
  {
   "cell_type": "code",
   "execution_count": null,
   "id": "752ad379",
   "metadata": {},
   "outputs": [],
   "source": []
  }
 ],
 "metadata": {
  "kernelspec": {
   "display_name": "Python 3 (ipykernel)",
   "language": "python",
   "name": "python3"
  },
  "language_info": {
   "codemirror_mode": {
    "name": "ipython",
    "version": 3
   },
   "file_extension": ".py",
   "mimetype": "text/x-python",
   "name": "python",
   "nbconvert_exporter": "python",
   "pygments_lexer": "ipython3",
   "version": "3.11.3"
  }
 },
 "nbformat": 4,
 "nbformat_minor": 5
}
